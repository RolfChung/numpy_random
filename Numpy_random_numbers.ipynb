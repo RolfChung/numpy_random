{
 "cells": [
  {
   "cell_type": "markdown",
   "id": "finite-welsh",
   "metadata": {},
   "source": [
    "# Summary\n",
    "\n",
    "<p>\n",
    "Random numbers are applied in a wide range of applications in Machine Learning, inferential statistics, and Data Science. This is a good reason to take a deeper look at the Numpy functions\n",
    "for generating  random data. Additionally Scipy is considered quickly.\n",
    "</p>"
   ]
  },
  {
   "cell_type": "markdown",
   "id": "proprietary-briefs",
   "metadata": {},
   "source": [
    "# Importing packages"
   ]
  },
  {
   "cell_type": "code",
   "execution_count": 273,
   "id": "fancy-assignment",
   "metadata": {},
   "outputs": [],
   "source": [
    "import pandas as pd\n",
    "import matplotlib.pyplot as plt\n",
    "%matplotlib inline\n",
    "import seaborn as sns\n",
    "\n",
    "import matplotlib as mpl\n",
    "from cycler import cycler\n",
    "\n",
    "import numpy as np\n",
    "import os as os\n",
    "import time\n",
    "import pprint\n",
    "import sys\n",
    "import re\n",
    "import json\n",
    "import itertools\n",
    "import datetime as dt\n",
    "import scipy.stats as stats\n",
    "import scipy"
   ]
  },
  {
   "cell_type": "markdown",
   "id": "senior-psychiatry",
   "metadata": {},
   "source": [
    "<p>\n",
    "The data visualization in this small notebook is conducted with Seaborn.<br>\n",
    "Below are some custization options.</p>\n",
    "\n",
    "### Customizing plots\n",
    "\n",
    "<p>The method sns.plotting_context give the options for customization.</p>"
   ]
  },
  {
   "cell_type": "code",
   "execution_count": 229,
   "id": "later-kidney",
   "metadata": {},
   "outputs": [
    {
     "data": {
      "text/plain": [
       "{'font.size': 12.0,\n",
       " 'axes.labelsize': 12.0,\n",
       " 'axes.titlesize': 12.0,\n",
       " 'xtick.labelsize': 11.0,\n",
       " 'ytick.labelsize': 11.0,\n",
       " 'legend.fontsize': 11.0,\n",
       " 'axes.linewidth': 1.25,\n",
       " 'grid.linewidth': 1.0,\n",
       " 'lines.linewidth': 1.5,\n",
       " 'lines.markersize': 6.0,\n",
       " 'patch.linewidth': 1.0,\n",
       " 'xtick.major.width': 1.25,\n",
       " 'ytick.major.width': 1.25,\n",
       " 'xtick.minor.width': 1.0,\n",
       " 'ytick.minor.width': 1.0,\n",
       " 'xtick.major.size': 6.0,\n",
       " 'ytick.major.size': 6.0,\n",
       " 'xtick.minor.size': 4.0,\n",
       " 'ytick.minor.size': 4.0,\n",
       " 'legend.title_fontsize': 12.0}"
      ]
     },
     "execution_count": 229,
     "metadata": {},
     "output_type": "execute_result"
    }
   ],
   "source": [
    "plt.style.use(['Solarize_Light2'])\n",
    "\n",
    "sns.set_context(\"notebook\")\n",
    "sns.plotting_context()"
   ]
  },
  {
   "cell_type": "markdown",
   "id": "explicit-colon",
   "metadata": {},
   "source": [
    "<p>Another option.</p>"
   ]
  },
  {
   "cell_type": "code",
   "execution_count": 230,
   "id": "measured-cartridge",
   "metadata": {},
   "outputs": [
    {
     "data": {
      "text/plain": [
       "{'font.size': 24.0,\n",
       " 'axes.labelsize': 24.0,\n",
       " 'axes.titlesize': 24.0,\n",
       " 'xtick.labelsize': 22.0,\n",
       " 'ytick.labelsize': 22.0,\n",
       " 'legend.fontsize': 22.0,\n",
       " 'axes.linewidth': 2.5,\n",
       " 'grid.linewidth': 2.0,\n",
       " 'lines.linewidth': 3.0,\n",
       " 'lines.markersize': 12.0,\n",
       " 'patch.linewidth': 2.0,\n",
       " 'xtick.major.width': 2.5,\n",
       " 'ytick.major.width': 2.5,\n",
       " 'xtick.minor.width': 2.0,\n",
       " 'ytick.minor.width': 2.0,\n",
       " 'xtick.major.size': 12.0,\n",
       " 'ytick.major.size': 12.0,\n",
       " 'xtick.minor.size': 8.0,\n",
       " 'ytick.minor.size': 8.0,\n",
       " 'legend.title_fontsize': 24.0}"
      ]
     },
     "execution_count": 230,
     "metadata": {},
     "output_type": "execute_result"
    }
   ],
   "source": [
    "sns.set_context(\"poster\")\n",
    "sns.plotting_context()"
   ]
  },
  {
   "cell_type": "markdown",
   "id": "mounted-trunk",
   "metadata": {},
   "source": [
    "<p>The full control\n",
    "of plot style and scaling of Seaborn using the matplotlib rcParams interface are \n",
    "given on\n",
    "<a href=\"https://github.com/mwaskom/seaborn/blob/master/seaborn/rcmod.py#L14\" target=\"_blank\">Github</a>.\n",
    "</p>"
   ]
  },
  {
   "cell_type": "markdown",
   "id": "bulgarian-peninsula",
   "metadata": {},
   "source": [
    "# What is NumPy?\n",
    "\n",
    "<p>\n",
    "\"NumPy is the fundamental package for scientific computing in Python. It is a Python library that provides a multidimensional array object, various derived objects (such as masked arrays and matrices), and an assortment of routines for fast operations on arrays, including mathematical, logical, shape manipulation, sorting, selecting, I/O, discrete Fourier transforms, basic linear algebra, basic statistical operations, random simulation and much more.<br>\n",
    "<a href=\"https://numpy.org/devdocs/user/whatisnumpy.html\" target=\"_blank\">Numpy</a> \n",
    "</p>\n",
    "\n",
    "<p>\n",
    "A full overview of random sampling within Numpy is given in the\n",
    "<a href=\"https://docs.scipy.org/doc/numpy-1.14.0/reference/routines.random.html\">Numpy</a> documentation.  \n",
    "</p>"
   ]
  },
  {
   "cell_type": "markdown",
   "id": "graphic-namibia",
   "metadata": {},
   "source": [
    "### numpy.random.rand\n",
    "<p>is generating floats in shape of an array.</p>"
   ]
  },
  {
   "cell_type": "code",
   "execution_count": 231,
   "id": "median-bridges",
   "metadata": {},
   "outputs": [
    {
     "name": "stdout",
     "output_type": "stream",
     "text": [
      "<class 'float'>\n",
      "0.8226783521577309\n",
      "1\n"
     ]
    }
   ],
   "source": [
    "rand_1=np.random.rand()\n",
    "\n",
    "print(type(rand_1))\n",
    "print(rand_1)\n",
    "print(np.count_nonzero(rand_1))"
   ]
  },
  {
   "cell_type": "code",
   "execution_count": 232,
   "id": "infrared-prior",
   "metadata": {},
   "outputs": [
    {
     "name": "stdout",
     "output_type": "stream",
     "text": [
      "<class 'numpy.ndarray'>\n",
      "[[0.79206979 0.19160638]\n",
      " [0.18984858 0.79358856]]\n",
      "(2, 2)\n",
      "4\n"
     ]
    }
   ],
   "source": [
    "rand_2=np.random.rand(2,2)\n",
    "\n",
    "print(type(rand_2))\n",
    "print(rand_2)\n",
    "print(rand_2.shape)\n",
    "print(np.count_nonzero(rand_2))"
   ]
  },
  {
   "cell_type": "code",
   "execution_count": 233,
   "id": "resident-garden",
   "metadata": {},
   "outputs": [
    {
     "name": "stdout",
     "output_type": "stream",
     "text": [
      "<class 'numpy.ndarray'>\n",
      "[[0.47981986 0.45905034 0.07687213 0.12977512 0.5098822  0.61825406\n",
      "  0.10745231 0.84154697 0.36213813 0.63264941]]\n",
      "(1, 10)\n",
      "10\n"
     ]
    }
   ],
   "source": [
    "np_rand_3=np.random.rand(1,10)\n",
    "\n",
    "print(type(np_rand_3))\n",
    "print(np_rand_3)\n",
    "print(np_rand_3.shape)\n",
    "print(np.count_nonzero(np_rand_3))"
   ]
  },
  {
   "cell_type": "markdown",
   "id": "activated-quilt",
   "metadata": {},
   "source": [
    "<p>As the values are randomly generated the distribution should be uniform.</p>"
   ]
  },
  {
   "cell_type": "code",
   "execution_count": 234,
   "id": "computational-preview",
   "metadata": {},
   "outputs": [
    {
     "data": {
      "image/png": "[encoded data removed]",
      "text/plain": [
       "<Figure size 432x288 with 1 Axes>"
      ]
     },
     "metadata": {},
     "output_type": "display_data"
    }
   ],
   "source": [
    "np_rand_4=np.random.rand(1,10000).flatten()\n",
    "\n",
    "pd.DataFrame(np_rand_4).plot.hist(bins=10, legend=False, edgecolor='red', color='black')\n",
    "plt.show()"
   ]
  },
  {
   "cell_type": "markdown",
   "id": "mediterranean-knowing",
   "metadata": {},
   "source": [
    "## np.random.random_sample\n",
    "\n",
    "<p>is similar to numpy.random.rand.</p>"
   ]
  },
  {
   "cell_type": "code",
   "execution_count": 235,
   "id": "continental-lending",
   "metadata": {},
   "outputs": [
    {
     "name": "stdout",
     "output_type": "stream",
     "text": [
      "<class 'numpy.ndarray'>\n",
      "(5, 2)\n",
      "5\n",
      "10\n",
      "[[0.97874105 0.32629941]\n",
      " [0.09930167 0.72461521]\n",
      " [0.88420887 0.78510687]\n",
      " [0.0344529  0.40656642]\n",
      " [0.39742747 0.82454174]]\n"
     ]
    }
   ],
   "source": [
    "np_sample_1=np.random.random_sample((5, 2))\n",
    "\n",
    "print(type(np_sample_1))\n",
    "print(np_sample_1.shape)\n",
    "print(len(np_sample_1))\n",
    "print(np.count_nonzero(np_sample_1))\n",
    "print(np_sample_1)"
   ]
  },
  {
   "cell_type": "markdown",
   "id": "figured-guarantee",
   "metadata": {},
   "source": [
    "# numpy.zeros\n",
    "\n",
    "<p>returns an array, too, but filled with zeros, which is often helpful, when \n",
    "the values are inserted later.</p>"
   ]
  },
  {
   "cell_type": "code",
   "execution_count": 236,
   "id": "gentle-lover",
   "metadata": {},
   "outputs": [
    {
     "name": "stdout",
     "output_type": "stream",
     "text": [
      "<class 'numpy.ndarray'>\n",
      "(2, 3)\n",
      "0\n",
      "[[0. 0. 0.]\n",
      " [0. 0. 0.]]\n"
     ]
    }
   ],
   "source": [
    "zeros_1=np.zeros((2,3))\n",
    "\n",
    "print(type(zeros_1))\n",
    "print(zeros_1.shape)\n",
    "print(np.count_nonzero(zeros_1))\n",
    "print(zeros_1)"
   ]
  },
  {
   "cell_type": "code",
   "execution_count": 237,
   "id": "impossible-thomas",
   "metadata": {},
   "outputs": [
    {
     "name": "stdout",
     "output_type": "stream",
     "text": [
      "<class 'numpy.ndarray'>\n",
      "(1, 10)\n",
      "0\n",
      "[[0. 0. 0. 0. 0. 0. 0. 0. 0. 0.]]\n"
     ]
    }
   ],
   "source": [
    "zeros_2=np.zeros((1,10))\n",
    "\n",
    "print(type(zeros_2))\n",
    "print(zeros_2.shape)\n",
    "print(np.count_nonzero(zeros_2))\n",
    "print(zeros_2)"
   ]
  },
  {
   "cell_type": "markdown",
   "id": "demographic-collar",
   "metadata": {},
   "source": [
    "<p>Unitialized, arbitray data is returned with.</p>"
   ]
  },
  {
   "cell_type": "code",
   "execution_count": 238,
   "id": "scientific-recall",
   "metadata": {},
   "outputs": [
    {
     "name": "stdout",
     "output_type": "stream",
     "text": [
      "<class 'numpy.ndarray'>\n",
      "(3, 3)\n",
      "3\n",
      "[[-1. -0. -0.]\n",
      " [ 0.  1.  0.]\n",
      " [ 0.  0.  1.]]\n"
     ]
    }
   ],
   "source": [
    "empty_1= np.empty((3,3))\n",
    "\n",
    "print(type(empty_1))\n",
    "print(empty_1.shape)\n",
    "print(np.count_nonzero(empty_1))\n",
    "print(empty_1)"
   ]
  },
  {
   "cell_type": "markdown",
   "id": "selective-notice",
   "metadata": {},
   "source": [
    "## Generating random numbers from the standard normal distribution\n",
    "\n",
    "<p>with different functions.</p>"
   ]
  },
  {
   "cell_type": "code",
   "execution_count": 239,
   "id": "harmful-modeling",
   "metadata": {},
   "outputs": [
    {
     "name": "stdout",
     "output_type": "stream",
     "text": [
      "<class 'numpy.ndarray'>\n",
      "(100, 100)\n",
      "10000\n",
      "[[0.11914332 1.11035256]]\n"
     ]
    }
   ],
   "source": [
    "normal_1=np.random.randn(100,100)\n",
    "\n",
    "print(type(normal_1))\n",
    "print(normal_1.shape)\n",
    "print(np.count_nonzero(normal_1))\n",
    "print(normal_1[2:3,1:3])"
   ]
  },
  {
   "cell_type": "code",
   "execution_count": 240,
   "id": "union-rally",
   "metadata": {},
   "outputs": [
    {
     "data": {
      "image/png": "[encoded data removed]",
      "text/plain": [
       "<Figure size 720x288 with 2 Axes>"
      ]
     },
     "metadata": {},
     "output_type": "display_data"
    },
    {
     "data": {
      "text/plain": [
       "{'font.size': 12.0,\n",
       " 'axes.labelsize': 12.0,\n",
       " 'axes.titlesize': 12.0,\n",
       " 'xtick.labelsize': 8.0,\n",
       " 'ytick.labelsize': 11.0,\n",
       " 'legend.fontsize': 11.0,\n",
       " 'axes.linewidth': 1.25,\n",
       " 'grid.linewidth': 1.0,\n",
       " 'lines.linewidth': 2.5,\n",
       " 'lines.markersize': 6.0,\n",
       " 'patch.linewidth': 1.0,\n",
       " 'xtick.major.width': 1.25,\n",
       " 'ytick.major.width': 1.25,\n",
       " 'xtick.minor.width': 1.0,\n",
       " 'ytick.minor.width': 1.0,\n",
       " 'xtick.major.size': 6.0,\n",
       " 'ytick.major.size': 6.0,\n",
       " 'xtick.minor.size': 4.0,\n",
       " 'ytick.minor.size': 4.0,\n",
       " 'legend.title_fontsize': 12.0}"
      ]
     },
     "execution_count": 240,
     "metadata": {},
     "output_type": "execute_result"
    }
   ],
   "source": [
    "normal_1_flatten=normal_1.flatten()\n",
    "\n",
    "sns.set_context(\"notebook\", font_scale=1,\n",
    "                rc={\"lines.linewidth\": 2.5, 'xtick.labelsize':8, \n",
    "                    'xtick.color':'red'})\n",
    "sns.set_style(\"ticks\", \n",
    "              rc={'axes.facecolor':'azure', 'figure.facecolor':'lightblue',\n",
    "                  \"xtick.color\":'red'})\n",
    "\n",
    "fig, (ax1, ax2) = plt.subplots(1,2, figsize=(10,4))\n",
    "sns.histplot(normal_1_flatten, edgecolor='red', linewidth=3, bins=40, ax=ax1)\n",
    "sns.kdeplot(data=normal_1_flatten, ax=ax2)\n",
    "\n",
    "\n",
    "plt.show()\n",
    "\n",
    "sns.plotting_context()"
   ]
  },
  {
   "cell_type": "code",
   "execution_count": 241,
   "id": "appointed-animal",
   "metadata": {},
   "outputs": [
    {
     "name": "stdout",
     "output_type": "stream",
     "text": [
      "<class 'numpy.ndarray'>\n",
      "(1000, 1000)\n",
      "1000000\n",
      "[[-0.10544234  0.8924524 ]]\n"
     ]
    }
   ],
   "source": [
    "normal_2=np.random.standard_normal((1000,1000)) # needs a tuple\n",
    "\n",
    "print(type(normal_2))\n",
    "print(normal_2.shape)\n",
    "print(np.count_nonzero(normal_2))\n",
    "print(normal_2[2:3,1:3])"
   ]
  },
  {
   "cell_type": "code",
   "execution_count": 242,
   "id": "swedish-highway",
   "metadata": {},
   "outputs": [
    {
     "name": "stdout",
     "output_type": "stream",
     "text": [
      "<class 'numpy.ndarray'>\n",
      "(1000000,)\n",
      "1000000\n",
      "[ 0.21473999 -0.5306255   0.11088712 -0.32921632 -0.25808187  0.20068875\n",
      "  0.329985   -0.25511974]\n"
     ]
    },
    {
     "data": {
      "image/png": "[encoded data removed]",
      "text/plain": [
       "<Figure size 720x288 with 2 Axes>"
      ]
     },
     "metadata": {},
     "output_type": "display_data"
    }
   ],
   "source": [
    "normal_2_flatten=normal_2.flatten()\n",
    "\n",
    "print(type(normal_2_flatten))\n",
    "print(normal_2_flatten.shape)\n",
    "print(np.count_nonzero(normal_2_flatten))\n",
    "print(normal_2_flatten[2:10])\n",
    "\n",
    "fig, (ax1, ax2) = plt.subplots(1,2, figsize=(10,4))\n",
    "sns.set_style('whitegrid')\n",
    "sns.histplot(normal_2_flatten, bins=40, edgecolor='red', color='lime', linewidth=3, ax=ax1)\n",
    "sns.kdeplot(data=normal_2_flatten, ax=ax2)\n",
    "\n",
    "plt.show()"
   ]
  },
  {
   "cell_type": "markdown",
   "id": "killing-sally",
   "metadata": {},
   "source": [
    "### np.random.normal\n",
    "\n",
    "<p>\n",
    "generates values base on the mean and std deviation.<br>   \n",
    "Mean of 0, and STD of 1 give the normal distribution.\n",
    "</p>"
   ]
  },
  {
   "cell_type": "code",
   "execution_count": 243,
   "id": "qualified-cooking",
   "metadata": {},
   "outputs": [],
   "source": [
    "normal_normal=np.random.normal(loc=0, scale=1, size=1000)"
   ]
  },
  {
   "cell_type": "code",
   "execution_count": 244,
   "id": "computational-positive",
   "metadata": {},
   "outputs": [
    {
     "data": {
      "image/png": "[encoded data removed]",
      "text/plain": [
       "<Figure size 432x288 with 1 Axes>"
      ]
     },
     "metadata": {},
     "output_type": "display_data"
    }
   ],
   "source": [
    "sns.set_style(\"ticks\", \n",
    "              rc={'axes.facecolor':'cornflowerblue', 'figure.facecolor':'cornflowerblue'})\n",
    "sns.histplot(normal_normal, bins=40, edgecolor='y', linewidth=5, color='black', kde='kde')\n",
    "plt.grid(axis='both')\n",
    "plt.show()"
   ]
  },
  {
   "cell_type": "code",
   "execution_count": 245,
   "id": "severe-wells",
   "metadata": {},
   "outputs": [
    {
     "name": "stdout",
     "output_type": "stream",
     "text": [
      "[ 1  1  0  0  2  0  3  6  6  4  7 14 14 23 23 21 30 33 46 53 56 65 64 61\n",
      " 72 72 51 42 47 43 41 22 19 15 12 13  7  4  6  1]\n",
      "<class 'numpy.ndarray'>\n",
      "[-3.68297578 -3.5252374  -3.36749902 -3.20976065 -3.05202227 -2.89428389\n",
      " -2.73654552 -2.57880714 -2.42106876 -2.26333038 -2.10559201 -1.94785363\n",
      " -1.79011525 -1.63237688 -1.4746385  -1.31690012 -1.15916174 -1.00142337\n",
      " -0.84368499 -0.68594661 -0.52820824 -0.37046986 -0.21273148 -0.0549931\n",
      "  0.10274527  0.26048365  0.41822203  0.5759604   0.73369878  0.89143716\n",
      "  1.04917554  1.20691391  1.36465229  1.52239067  1.68012904  1.83786742\n",
      "  1.9956058   2.15334418  2.31108255  2.46882093  2.62655931]\n"
     ]
    }
   ],
   "source": [
    "values_1, bin_edges_1 = np.histogram(normal_normal, bins=40)\n",
    "\n",
    "print(values_1)\n",
    "print(type(values_1))\n",
    "\n",
    "print(bin_edges_1)"
   ]
  },
  {
   "cell_type": "code",
   "execution_count": 246,
   "id": "original-edmonton",
   "metadata": {},
   "outputs": [
    {
     "name": "stdout",
     "output_type": "stream",
     "text": [
      "41\n",
      "41\n"
     ]
    }
   ],
   "source": [
    "values_1_list = values_1.tolist()\n",
    "values_1_list.insert(0,0)\n",
    "\n",
    "bin_edges_1_list = bin_edges_1.tolist()\n",
    "\n",
    "print(len(values_1_list))\n",
    "print(len(bin_edges_1_list))"
   ]
  },
  {
   "cell_type": "code",
   "execution_count": 268,
   "id": "bottom-michael",
   "metadata": {},
   "outputs": [
    {
     "data": {
      "image/png": "[encoded data removed]",
      "text/plain": [
       "<Figure size 432x288 with 1 Axes>"
      ]
     },
     "metadata": {},
     "output_type": "display_data"
    }
   ],
   "source": [
    "sns.set_style(\"ticks\", \n",
    "              rc={'axes.facecolor':'yellow', 'figure.facecolor':'gold'})\n",
    "sns.barplot(x=bin_edges_1, y=values_1_list)\n",
    "plt.grid(axis='y')\n",
    "plt.xticks([])\n",
    "plt.show()"
   ]
  },
  {
   "cell_type": "markdown",
   "id": "continued-numbers",
   "metadata": {},
   "source": [
    "### np.random.randint\n",
    "<p>\n",
    "approaches the uniforn distribution.\n",
    "</p>"
   ]
  },
  {
   "cell_type": "code",
   "execution_count": 248,
   "id": "collectible-chester",
   "metadata": {},
   "outputs": [
    {
     "name": "stdout",
     "output_type": "stream",
     "text": [
      "[8, 48, 18, 96, 81, 48, 81, 76, 11, 32]\n"
     ]
    },
    {
     "data": {
      "image/png": "[encoded data removed]",
      "text/plain": [
       "<Figure size 864x360 with 2 Axes>"
      ]
     },
     "metadata": {},
     "output_type": "display_data"
    }
   ],
   "source": [
    "### np.random.randint\n",
    "\n",
    "int_1=np.random.randint(low=1,high=100, size=1000).tolist()\n",
    "print(int_1[:10])\n",
    "\n",
    "x_1=np.arange(0,1000)\n",
    "\n",
    "fig, (ax1, ax2) = plt.subplots(1,2, figsize=(12,5))\n",
    "\n",
    "sns.barplot(x=x_1, y=int_1, color='red', linewidth=0.2, edgecolor='black', ax=ax1)\n",
    "ax1.set_xticks([])\n",
    "ax2.hist(int_1, bins=40, edgecolor='black', color='gold')\n",
    "\n",
    "plt.show()\n",
    "\n"
   ]
  },
  {
   "cell_type": "markdown",
   "id": "precise-rwanda",
   "metadata": {},
   "source": [
    "### np.random.random\n",
    "<p>returns a defined array of random floats.</p>"
   ]
  },
  {
   "cell_type": "code",
   "execution_count": 249,
   "id": "intensive-ethics",
   "metadata": {},
   "outputs": [
    {
     "name": "stdout",
     "output_type": "stream",
     "text": [
      "(3, 4)\n",
      "[[0.95440785 0.25761382 0.07703961 0.05199509]\n",
      " [0.40826994 0.54951807 0.06626801 0.19605524]\n",
      " [0.11388069 0.24884673 0.5449209  0.22800952]]\n"
     ]
    }
   ],
   "source": [
    "random_floats=np.random.random((3,4))\n",
    "\n",
    "print(random_floats.shape)\n",
    "print(random_floats)"
   ]
  },
  {
   "cell_type": "markdown",
   "id": "subject-childhood",
   "metadata": {},
   "source": [
    "<p>This gives these number of values: </p>"
   ]
  },
  {
   "cell_type": "code",
   "execution_count": 250,
   "id": "breeding-knife",
   "metadata": {},
   "outputs": [
    {
     "name": "stdout",
     "output_type": "stream",
     "text": [
      "12\n",
      "12\n"
     ]
    }
   ],
   "source": [
    "print(np.count_nonzero(random_floats))\n",
    "print(3*4)"
   ]
  },
  {
   "cell_type": "code",
   "execution_count": 251,
   "id": "spatial-cinema",
   "metadata": {},
   "outputs": [
    {
     "name": "stdout",
     "output_type": "stream",
     "text": [
      "100\n"
     ]
    },
    {
     "data": {
      "text/plain": [
       "array([[0.61129829, 0.65672102, 0.69171868, 0.56512914, 0.60580042,\n",
       "        0.1765989 , 0.45760011, 0.66010474, 0.49626078, 0.61930162],\n",
       "       [0.83959306, 0.10236354, 0.52018697, 0.34180719, 0.9769309 ,\n",
       "        0.53534067, 0.9774714 , 0.43425627, 0.81555694, 0.24269879]])"
      ]
     },
     "execution_count": 251,
     "metadata": {},
     "output_type": "execute_result"
    }
   ],
   "source": [
    "random_floats_2=np.random.random_sample((10,10))\n",
    "\n",
    "print(np.count_nonzero(random_floats_2))\n",
    "random_floats_2[:2,:10]"
   ]
  },
  {
   "cell_type": "markdown",
   "id": "remarkable-providence",
   "metadata": {},
   "source": [
    "### np.random.choice(a, size=None, replace=True, p=None)\n",
    "\n",
    "<p>takes a sample from a population.</p>"
   ]
  },
  {
   "cell_type": "code",
   "execution_count": 252,
   "id": "secret-range",
   "metadata": {},
   "outputs": [
    {
     "name": "stdout",
     "output_type": "stream",
     "text": [
      "(10,)\n",
      "[1081 1074 1088 1084 1067 1184 1016 1147 1044 1113]\n",
      "(5, 5)\n",
      "[[1008 1026 1081 1077]\n",
      " [1134 1074 1125 1173]\n",
      " [1081 1086 1173 1129]]\n",
      "(100, 50)\n",
      "(10, 10)\n"
     ]
    }
   ],
   "source": [
    "# Generating a pseudo population.\n",
    "population_1=np.random.randint(low=1000, high=1200, size=100)\n",
    "\n",
    "# Taking samples.\n",
    "choice_1=np.random.choice(population_1, size=10)\n",
    "print(choice_1.shape)\n",
    "print(choice_1)\n",
    "\n",
    "choice_2=np.random.choice(population_1, size=(5,5))\n",
    "print(choice_2.shape)\n",
    "print(choice_2[:3,:4])\n",
    "\n",
    "choice_3=np.random.choice(population_1, size=(100,50))\n",
    "print(choice_3.shape)\n",
    "\n",
    "choice_4=np.random.choice(population_1, size=(10,10), replace=False)\n",
    "print(choice_4.shape)"
   ]
  },
  {
   "cell_type": "code",
   "execution_count": 253,
   "id": "corresponding-cream",
   "metadata": {},
   "outputs": [
    {
     "data": {
      "image/png": "[encoded data removed]",
      "text/plain": [
       "<Figure size 3456x864 with 1 Axes>"
      ]
     },
     "metadata": {},
     "output_type": "display_data"
    }
   ],
   "source": [
    "sns.set_style('darkgrid')\n",
    "sns.displot(choice_3.flatten(), color='crimson', edgecolor='lime',\n",
    "            linewidth=8, height=12, aspect=4\n",
    "                )\n",
    "plt.show()"
   ]
  },
  {
   "cell_type": "markdown",
   "id": "varying-collection",
   "metadata": {},
   "source": [
    "### np.random.uniform(low=0.0, high=1.0, size=None)"
   ]
  },
  {
   "cell_type": "code",
   "execution_count": 254,
   "id": "varied-covering",
   "metadata": {},
   "outputs": [
    {
     "data": {
      "text/plain": [
       "array([0.44638357, 0.46980288, 0.70663294, 0.67146919, 0.61675883,\n",
       "       0.34836324, 0.54325192, 0.70155107, 0.36196289, 0.61757648])"
      ]
     },
     "execution_count": 254,
     "metadata": {},
     "output_type": "execute_result"
    }
   ],
   "source": [
    "np.random.uniform(low=0.3, high=0.8, size=10)"
   ]
  },
  {
   "cell_type": "code",
   "execution_count": 255,
   "id": "induced-caution",
   "metadata": {},
   "outputs": [],
   "source": [
    "uni_1=np.random.uniform(low=0.3, high=0.8, size=10000)"
   ]
  },
  {
   "cell_type": "code",
   "execution_count": 256,
   "id": "returning-despite",
   "metadata": {},
   "outputs": [
    {
     "data": {
      "image/png": "[encoded data removed]",
      "text/plain": [
       "<Figure size 3456x864 with 1 Axes>"
      ]
     },
     "metadata": {},
     "output_type": "display_data"
    }
   ],
   "source": [
    "sns.set_style('darkgrid')\n",
    "sns.displot(uni_1, color='orange', edgecolor='black', height=12, aspect=4\n",
    "                )\n",
    "plt.show()"
   ]
  },
  {
   "cell_type": "markdown",
   "id": "metallic-training",
   "metadata": {},
   "source": [
    "### Shuffling the data with numpy\n",
    "### np.random.shuffle(x)"
   ]
  },
  {
   "cell_type": "code",
   "execution_count": 257,
   "id": "collect-equality",
   "metadata": {},
   "outputs": [
    {
     "name": "stdout",
     "output_type": "stream",
     "text": [
      "[24 48 44 30 40  2 41  6 34 29 39 12 20 19 38 17 37 42 26 16  1 45 21  4\n",
      " 25 31  7 11 15 35 27 43 36 18 32 28 47  3 49 23  8  9 46 14 10 22 13  5\n",
      " 33]\n"
     ]
    }
   ],
   "source": [
    "arange_3=np.arange(1,50,1)\n",
    "# shuffle in place\n",
    "np.random.shuffle(arange_3)\n",
    "print(arange_3)"
   ]
  },
  {
   "cell_type": "markdown",
   "id": "thorough-grass",
   "metadata": {},
   "source": [
    "### np.random.permutation(x)"
   ]
  },
  {
   "cell_type": "code",
   "execution_count": 258,
   "id": "antique-overhead",
   "metadata": {},
   "outputs": [
    {
     "name": "stdout",
     "output_type": "stream",
     "text": [
      "[1000 1001 1002 1003 1004 1005 1006 1007 1008 1009]\n"
     ]
    }
   ],
   "source": [
    "arange_4=np.arange(1000,1010,1)\n",
    "print(arange_4)"
   ]
  },
  {
   "cell_type": "code",
   "execution_count": 259,
   "id": "waiting-chester",
   "metadata": {},
   "outputs": [
    {
     "data": {
      "text/plain": [
       "array([1008, 1009, 1001, 1005, 1002, 1007, 1003, 1006, 1004, 1000])"
      ]
     },
     "execution_count": 259,
     "metadata": {},
     "output_type": "execute_result"
    }
   ],
   "source": [
    "np.random.permutation(arange_4)"
   ]
  },
  {
   "cell_type": "markdown",
   "id": "french-seller",
   "metadata": {},
   "source": [
    "<p>Random data with Scipy statistics.</p>\n",
    "\n",
    "# What is Scipy?\n",
    "\n",
    "<p>\n",
    "\"SciPy is a collection of mathematical algorithms and convenience functions built on the NumPy extension of Python. It adds significant power to the interactive Python session by providing the user with high-level commands and classes for manipulating and visualizing data. With SciPy, an interactive Python session becomes a data-processing and system-prototyping environment rivaling systems, such as MATLAB, IDL, Octave, R-Lab, and SciLab.\"\n",
    "<a href=\"https://docs.scipy.org/doc/scipy/tutorial/general.html\" target=\"_blank\">Scipy</a>     \n",
    "</p>\n",
    "\n",
    "<p>\n",
    "The Statistics (scipy.stats) package offers many<br>\n",
    "<b>Random variables.</b><br>\n",
    "\"There are two general distribution classes that have been implemented for encapsulating continuous random variables and discrete random variables. Over 80 continuous random variables (RVs) and 10 discrete random variables have been implemented using these classes. Besides this, new routines and distributions can be easily added by the end user.\"<br>\n",
    "<a href=\"https://docs.scipy.org/doc/scipy/reference/tutorial/stats.html\" target=\"_blank\">SciPy</a> \n",
    "</p>\n",
    "\n",
    "<p>\n",
    "Below some random variable functions are applied:\n",
    "</p>"
   ]
  },
  {
   "cell_type": "code",
   "execution_count": 260,
   "id": "solved-liberty",
   "metadata": {},
   "outputs": [
    {
     "name": "stdout",
     "output_type": "stream",
     "text": [
      "<class 'numpy.ndarray'>\n",
      "(1000000,)\n",
      "1000000\n",
      "[ 0.34785301  1.15956916 -0.62550213 -0.64757097  1.23754659 -0.01712751\n",
      " -0.09997005 -0.95928007]\n"
     ]
    }
   ],
   "source": [
    "norm_3=stats.norm.rvs(size=(1000,1000)).flatten()\n",
    "\n",
    "print(type(norm_3))\n",
    "print(norm_3.shape)\n",
    "print(np.count_nonzero(norm_3))\n",
    "print(norm_3[2:10])"
   ]
  },
  {
   "cell_type": "code",
   "execution_count": 261,
   "id": "judicial-document",
   "metadata": {},
   "outputs": [
    {
     "name": "stdout",
     "output_type": "stream",
     "text": [
      "-0.0009642387861570158\n",
      "1.0009267322324487\n"
     ]
    }
   ],
   "source": [
    "print(norm_3.mean())\n",
    "print(norm_3.std())"
   ]
  },
  {
   "cell_type": "code",
   "execution_count": 262,
   "id": "silver-roulette",
   "metadata": {},
   "outputs": [
    {
     "data": {
      "text/plain": [
       "DescribeResult(nobs=1000000, minmax=(-4.807358129743765, 4.6646022742384705), mean=-0.0009642387861570158, variance=1.0018553251528532, skewness=-0.002546724603324035, kurtosis=0.0021644364043549302)"
      ]
     },
     "execution_count": 262,
     "metadata": {},
     "output_type": "execute_result"
    }
   ],
   "source": [
    "stats.describe(norm_3)"
   ]
  },
  {
   "cell_type": "code",
   "execution_count": 263,
   "id": "metropolitan-right",
   "metadata": {},
   "outputs": [
    {
     "data": {
      "image/png": "[encoded data removed]",
      "text/plain": [
       "<Figure size 432x288 with 1 Axes>"
      ]
     },
     "metadata": {},
     "output_type": "display_data"
    }
   ],
   "source": [
    "sns.set_style(\"darkgrid\")\n",
    "sns.histplot(norm_3, bins=40, edgecolor='g', linewidth=2, color='black', kde='kde')\n",
    "plt.show()"
   ]
  },
  {
   "cell_type": "code",
   "execution_count": 264,
   "id": "acting-championship",
   "metadata": {},
   "outputs": [
    {
     "name": "stdout",
     "output_type": "stream",
     "text": [
      "-0.00037768990432608207\n",
      "0.9998865538374921\n"
     ]
    },
    {
     "data": {
      "text/plain": [
       "DescribeResult(nobs=9000000, minmax=(-5.236449050735511, 6.200570448728261), mean=-0.00037768990432608207, variance=0.9997732316309306, skewness=0.0005299750519356854, kurtosis=-0.002468251191060755)"
      ]
     },
     "execution_count": 264,
     "metadata": {},
     "output_type": "execute_result"
    }
   ],
   "source": [
    "norm_4=stats.norm.rvs(loc=0, scale=1, size=9000000, random_state=None)\n",
    "\n",
    "print(norm_4.mean())\n",
    "print(norm_4.std())\n",
    "stats.describe(norm_4)"
   ]
  },
  {
   "cell_type": "code",
   "execution_count": 265,
   "id": "coated-seattle",
   "metadata": {},
   "outputs": [
    {
     "data": {
      "image/png": "[encoded data removed]",
      "text/plain": [
       "<Figure size 432x288 with 1 Axes>"
      ]
     },
     "metadata": {},
     "output_type": "display_data"
    }
   ],
   "source": [
    "sns.set_style(\"whitegrid\")\n",
    "sns.histplot(norm_4, bins=40, edgecolor='gold', linewidth=7, color='black', kde='kde')\n",
    "plt.show()"
   ]
  },
  {
   "cell_type": "code",
   "execution_count": 266,
   "id": "biological-modeling",
   "metadata": {},
   "outputs": [
    {
     "data": {
      "image/png": "[encoded data removed]",
      "text/plain": [
       "<Figure size 432x288 with 1 Axes>"
      ]
     },
     "metadata": {},
     "output_type": "display_data"
    }
   ],
   "source": [
    "norm_5=stats.norm.rvs(loc=0, scale=10, size=100000, random_state=None)\n",
    "sns.set_style(\"whitegrid\")\n",
    "sns.histplot(norm_5, bins=40, edgecolor='g', linewidth=2, color='black', kde='kde')\n",
    "plt.show()"
   ]
  },
  {
   "cell_type": "code",
   "execution_count": 267,
   "id": "whole-three",
   "metadata": {},
   "outputs": [
    {
     "name": "stdout",
     "output_type": "stream",
     "text": [
      "-0.005413950703374135\n",
      "10.005124152680771\n",
      "DescribeResult(nobs=100000, minmax=(-42.680124448754206, 39.73371788752795), mean=-0.005413950703374135, variance=100.10351034565957, skewness=0.012208128244457843, kurtosis=0.0012438095125735238)\n"
     ]
    }
   ],
   "source": [
    "print(norm_5.mean())\n",
    "print(norm_5.std())\n",
    "print(stats.describe(norm_5))"
   ]
  },
  {
   "cell_type": "markdown",
   "id": "hollow-dispute",
   "metadata": {},
   "source": [
    "<p>\n",
    "The empirical means and std's are deviating slightly from the theorectical normal distribution.<br>\n",
    "According to the law of large numbers the difference should diminish.</p> "
   ]
  },
  {
   "cell_type": "markdown",
   "id": "animated-sperm",
   "metadata": {},
   "source": [
    "###  scipy.sparse.random(m, n, density=0.01, format='coo', dtype=None, random_state=None, data_rvs=None)"
   ]
  },
  {
   "cell_type": "code",
   "execution_count": 279,
   "id": "competitive-intent",
   "metadata": {},
   "outputs": [],
   "source": [
    "S=scipy.sparse.random(2, 5, density=0.5, format='coo', \n",
    "                      dtype=None, random_state=None, data_rvs=None)"
   ]
  },
  {
   "cell_type": "code",
   "execution_count": 280,
   "id": "natural-things",
   "metadata": {},
   "outputs": [
    {
     "data": {
      "text/plain": [
       "array([[0.06075613, 0.        , 0.        , 0.34666857, 0.34984191],\n",
       "       [0.        , 0.12114798, 0.        , 0.97337128, 0.        ]])"
      ]
     },
     "execution_count": 280,
     "metadata": {},
     "output_type": "execute_result"
    }
   ],
   "source": [
    "S.A"
   ]
  }
 ],
 "metadata": {
  "kernelspec": {
   "display_name": "Python 3",
   "language": "python",
   "name": "python3"
  },
  "language_info": {
   "codemirror_mode": {
    "name": "ipython",
    "version": 3
   },
   "file_extension": ".py",
   "mimetype": "text/x-python",
   "name": "python",
   "nbconvert_exporter": "python",
   "pygments_lexer": "ipython3",
   "version": "3.7.10"
  }
 },
 "nbformat": 4,
 "nbformat_minor": 5
}
